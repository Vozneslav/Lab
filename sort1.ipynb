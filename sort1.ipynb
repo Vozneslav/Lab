def sortowanie_babelkowe(lista):
  dlugosc = len(lista)
  for i in range(dlugosc):
    for j in range(dlugosc-i-1):
      if lista[j] > lista[j+1]:
        lista[j], lista[j+1] = lista[j+1], lista[j]
  return


lista1 = [64, 34, 25, 12, 22, 11, 90]
sortowanie_babelkowe(lista1)
print(lista1)