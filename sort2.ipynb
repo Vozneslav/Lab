def sortowanie_przez_wstawianie(lista):
  dlugosc = len(lista)
  for i in range(1, dlugosc):
    wybrany_element = lista[i]
    j = i - 1
    while j >= 0 and wybrany_element < lista[j]:
      lista[j+1] = lista[j]
      j = j - 1
    lista[j + 1] = wybrany_element
  return


lista2 = [64, 34, 25, 12, 22, 11, 90]
sortowanie_przez_wstawianie(lista2)
print(lista2)
