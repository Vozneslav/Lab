{
  "nbformat": 4,
  "nbformat_minor": 0,
  "metadata": {
    "colab": {
      "name": "Untitled2.ipynb",
      "provenance": [],
      "collapsed_sections": []
    },
    "kernelspec": {
      "name": "python3",
      "display_name": "Python 3"
    }
  },
  "cells": [
    {
      "cell_type": "code",
      "metadata": {
        "id": "Wue5eCREYO7f",
        "colab_type": "code",
        "outputId": "3a625337-9f89-4d74-9183-fc32b978e3ba",
        "colab": {
          "base_uri": "https://localhost:8080/",
          "height": 51
        }
      },
      "source": [
        "def sortowanie_babelkowe(lista):\n",
        "  dlugosc = len(lista)\n",
        "  for i in range(dlugosc):\n",
        "    for j in range(dlugosc-i-1):\n",
        "      if lista[j] > lista[j+1]:\n",
        "        lista[j], lista[j+1] = lista[j+1], lista[j]\n",
        "  return\n",
        "\n",
        "\n",
        "lista1 = [64, 34, 25, 12, 22, 11, 90]\n",
        "sortowanie_babelkowe(lista1)\n",
        "print(lista1)"
      ],
      "execution_count": 0,
      "outputs": [
        {
          "output_type": "stream",
          "text": [
            "[64, 34, 25, 12, 22, 11, 90]\n",
            "[11, 12, 22, 25, 34, 64, 90]\n"
          ],
          "name": "stdout"
        }
      ]
    },
    {
      "cell_type": "code",
      "metadata": {
        "id": "EQeoLihgdIlt",
        "colab_type": "code",
        "outputId": "d5bb8561-cff4-441a-f7ec-efbbb3996f27",
        "colab": {
          "base_uri": "https://localhost:8080/",
          "height": 34
        }
      },
      "source": [
        "def sortowanie_przez_wstawianie(lista):\n",
        "  dlugosc = len(lista)\n",
        "  for i in range(1, dlugosc):\n",
        "    wybrany_element = lista[i]\n",
        "    j = i - 1\n",
        "    while j >= 0 and wybrany_element < lista[j]:\n",
        "      lista[j+1] = lista[j]\n",
        "      j = j - 1\n",
        "    lista[j + 1] = wybrany_element\n",
        "  return\n",
        "\n",
        "\n",
        "lista2 = [64, 34, 25, 12, 22, 11, 90]\n",
        "sortowanie_przez_wstawianie(lista2)\n",
        "print(lista2)"
      ],
      "execution_count": 0,
      "outputs": [
        {
          "output_type": "stream",
          "text": [
            "[11, 12, 22, 25, 34, 64, 90]\n"
          ],
          "name": "stdout"
        }
      ]
    }
  ]
}